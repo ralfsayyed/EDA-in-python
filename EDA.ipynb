{
 "cells": [
  {
   "cell_type": "code",
   "execution_count": 1,
   "metadata": {},
   "outputs": [
    {
     "name": "stdout",
     "output_type": "stream",
     "text": [
      "Collecting pandas-profiling\n",
      "  Downloading pandas_profiling-3.5.0-py2.py3-none-any.whl (325 kB)\n",
      "Requirement already satisfied: matplotlib<3.7,>=3.2 in c:\\users\\sayyedn\\anaconda3\\lib\\site-packages (from pandas-profiling) (3.2.2)\n",
      "Requirement already satisfied: numpy<1.24,>=1.16.0 in c:\\users\\sayyedn\\anaconda3\\lib\\site-packages (from pandas-profiling) (1.18.5)\n",
      "Requirement already satisfied: PyYAML<6.1,>=5.0.0 in c:\\users\\sayyedn\\anaconda3\\lib\\site-packages (from pandas-profiling) (5.3.1)\n",
      "Collecting visions[type_image_path]==0.7.5\n",
      "  Downloading visions-0.7.5-py3-none-any.whl (102 kB)\n",
      "Requirement already satisfied: seaborn<0.13,>=0.10.1 in c:\\users\\sayyedn\\anaconda3\\lib\\site-packages (from pandas-profiling) (0.10.1)\n",
      "Collecting multimethod<1.10,>=1.4\n",
      "  Downloading multimethod-1.9-py3-none-any.whl (10 kB)\n",
      "Collecting statsmodels<0.14,>=0.13.2\n",
      "  Downloading statsmodels-0.13.5-cp38-cp38-win_amd64.whl (9.2 MB)\n",
      "Collecting htmlmin==0.1.12\n",
      "  Downloading htmlmin-0.1.12.tar.gz (19 kB)\n",
      "Collecting pandas!=1.4.0,<1.6,>1.1\n",
      "  Downloading pandas-1.5.2-cp38-cp38-win_amd64.whl (11.0 MB)\n",
      "Collecting phik<0.13,>=0.11.1\n",
      "  Downloading phik-0.12.2-cp38-cp38-win_amd64.whl (677 kB)\n",
      "Requirement already satisfied: jinja2<3.2,>=2.11.1 in c:\\users\\sayyedn\\anaconda3\\lib\\site-packages (from pandas-profiling) (2.11.2)\n",
      "Requirement already satisfied: requests<2.29,>=2.24.0 in c:\\users\\sayyedn\\anaconda3\\lib\\site-packages (from pandas-profiling) (2.24.0)\n",
      "Collecting tqdm<4.65,>=4.48.2\n",
      "  Downloading tqdm-4.64.1-py2.py3-none-any.whl (78 kB)\n",
      "Collecting typeguard<2.14,>=2.13.2\n",
      "  Downloading typeguard-2.13.3-py3-none-any.whl (17 kB)\n",
      "Requirement already satisfied: scipy<1.10,>=1.4.1 in c:\\users\\sayyedn\\anaconda3\\lib\\site-packages (from pandas-profiling) (1.5.0)\n",
      "Collecting pydantic<1.11,>=1.8.1\n",
      "  Downloading pydantic-1.10.2-cp38-cp38-win_amd64.whl (2.2 MB)\n",
      "Requirement already satisfied: kiwisolver>=1.0.1 in c:\\users\\sayyedn\\anaconda3\\lib\\site-packages (from matplotlib<3.7,>=3.2->pandas-profiling) (1.2.0)\n",
      "Requirement already satisfied: cycler>=0.10 in c:\\users\\sayyedn\\anaconda3\\lib\\site-packages (from matplotlib<3.7,>=3.2->pandas-profiling) (0.10.0)\n",
      "Requirement already satisfied: pyparsing!=2.0.4,!=2.1.2,!=2.1.6,>=2.0.1 in c:\\users\\sayyedn\\anaconda3\\lib\\site-packages (from matplotlib<3.7,>=3.2->pandas-profiling) (2.4.7)\n",
      "Requirement already satisfied: python-dateutil>=2.1 in c:\\users\\sayyedn\\anaconda3\\lib\\site-packages (from matplotlib<3.7,>=3.2->pandas-profiling) (2.8.1)\n",
      "Requirement already satisfied: networkx>=2.4 in c:\\users\\sayyedn\\anaconda3\\lib\\site-packages (from visions[type_image_path]==0.7.5->pandas-profiling) (2.4)\n",
      "Requirement already satisfied: attrs>=19.3.0 in c:\\users\\sayyedn\\anaconda3\\lib\\site-packages (from visions[type_image_path]==0.7.5->pandas-profiling) (19.3.0)\n",
      "Collecting tangled-up-in-unicode>=0.0.4\n",
      "  Downloading tangled_up_in_unicode-0.2.0-py3-none-any.whl (4.7 MB)\n",
      "Collecting imagehash; extra == \"type_image_path\"\n",
      "  Downloading ImageHash-4.3.1-py2.py3-none-any.whl (296 kB)\n",
      "Requirement already satisfied: Pillow; extra == \"type_image_path\" in c:\\users\\sayyedn\\anaconda3\\lib\\site-packages (from visions[type_image_path]==0.7.5->pandas-profiling) (9.3.0)\n",
      "Collecting patsy>=0.5.2\n",
      "  Downloading patsy-0.5.3-py2.py3-none-any.whl (233 kB)\n",
      "Requirement already satisfied: packaging>=21.3 in c:\\users\\sayyedn\\anaconda3\\lib\\site-packages (from statsmodels<0.14,>=0.13.2->pandas-profiling) (21.3)\n",
      "Requirement already satisfied: pytz>=2020.1 in c:\\users\\sayyedn\\anaconda3\\lib\\site-packages (from pandas!=1.4.0,<1.6,>1.1->pandas-profiling) (2020.1)\n",
      "Requirement already satisfied: joblib>=0.14.1 in c:\\users\\sayyedn\\anaconda3\\lib\\site-packages (from phik<0.13,>=0.11.1->pandas-profiling) (0.16.0)\n",
      "Requirement already satisfied: MarkupSafe>=0.23 in c:\\users\\sayyedn\\anaconda3\\lib\\site-packages (from jinja2<3.2,>=2.11.1->pandas-profiling) (1.1.1)\n",
      "Requirement already satisfied: certifi>=2017.4.17 in c:\\users\\sayyedn\\anaconda3\\lib\\site-packages (from requests<2.29,>=2.24.0->pandas-profiling) (2020.6.20)\n",
      "Requirement already satisfied: urllib3!=1.25.0,!=1.25.1,<1.26,>=1.21.1 in c:\\users\\sayyedn\\anaconda3\\lib\\site-packages (from requests<2.29,>=2.24.0->pandas-profiling) (1.25.9)\n",
      "Requirement already satisfied: idna<3,>=2.5 in c:\\users\\sayyedn\\anaconda3\\lib\\site-packages (from requests<2.29,>=2.24.0->pandas-profiling) (2.10)\n",
      "Requirement already satisfied: chardet<4,>=3.0.2 in c:\\users\\sayyedn\\anaconda3\\lib\\site-packages (from requests<2.29,>=2.24.0->pandas-profiling) (3.0.4)\n",
      "Requirement already satisfied: colorama; platform_system == \"Windows\" in c:\\users\\sayyedn\\anaconda3\\lib\\site-packages (from tqdm<4.65,>=4.48.2->pandas-profiling) (0.4.3)\n",
      "Collecting typing-extensions>=4.1.0\n",
      "  Downloading typing_extensions-4.4.0-py3-none-any.whl (26 kB)\n",
      "Requirement already satisfied: six in c:\\users\\sayyedn\\anaconda3\\lib\\site-packages (from cycler>=0.10->matplotlib<3.7,>=3.2->pandas-profiling) (1.15.0)\n",
      "Requirement already satisfied: decorator>=4.3.0 in c:\\users\\sayyedn\\anaconda3\\lib\\site-packages (from networkx>=2.4->visions[type_image_path]==0.7.5->pandas-profiling) (4.4.2)\n",
      "Requirement already satisfied: PyWavelets in c:\\users\\sayyedn\\anaconda3\\lib\\site-packages (from imagehash; extra == \"type_image_path\"->visions[type_image_path]==0.7.5->pandas-profiling) (1.1.1)\n",
      "Building wheels for collected packages: htmlmin\n",
      "  Building wheel for htmlmin (setup.py): started\n",
      "  Building wheel for htmlmin (setup.py): finished with status 'done'\n",
      "  Created wheel for htmlmin: filename=htmlmin-0.1.12-py3-none-any.whl size=27090 sha256=629a5ef8041665bb1c986e1ec5bfeab2578faaf18ba97b203945fe5f5ee13cef\n",
      "  Stored in directory: c:\\users\\sayyedn\\appdata\\local\\pip\\cache\\wheels\\23\\14\\6e\\4be5bfeeb027f4939a01764b48edd5996acf574b0913fe5243\n",
      "Successfully built htmlmin\n",
      "Installing collected packages: multimethod, pandas, tangled-up-in-unicode, imagehash, visions, patsy, statsmodels, htmlmin, phik, tqdm, typeguard, typing-extensions, pydantic, pandas-profiling\n",
      "  Attempting uninstall: pandas\n",
      "    Found existing installation: pandas 1.0.5\n",
      "    Uninstalling pandas-1.0.5:\n",
      "      Successfully uninstalled pandas-1.0.5\n",
      "  Attempting uninstall: patsy\n",
      "    Found existing installation: patsy 0.5.1\n",
      "    Uninstalling patsy-0.5.1:\n",
      "      Successfully uninstalled patsy-0.5.1\n",
      "  Attempting uninstall: statsmodels\n",
      "    Found existing installation: statsmodels 0.11.1\n",
      "    Uninstalling statsmodels-0.11.1:\n",
      "      Successfully uninstalled statsmodels-0.11.1\n",
      "  Attempting uninstall: tqdm\n",
      "    Found existing installation: tqdm 4.47.0\n",
      "    Uninstalling tqdm-4.47.0:\n",
      "      Successfully uninstalled tqdm-4.47.0\n",
      "  Attempting uninstall: typing-extensions\n",
      "    Found existing installation: typing-extensions 3.7.4.2\n",
      "    Uninstalling typing-extensions-3.7.4.2:\n",
      "      Successfully uninstalled typing-extensions-3.7.4.2\n",
      "Successfully installed htmlmin-0.1.12 imagehash-4.3.1 multimethod-1.9 pandas-1.5.2 pandas-profiling-3.5.0 patsy-0.5.3 phik-0.12.2 pydantic-1.10.2 statsmodels-0.13.5 tangled-up-in-unicode-0.2.0 tqdm-4.64.1 typeguard-2.13.3 typing-extensions-4.4.0 visions-0.7.5\n",
      "Note: you may need to restart the kernel to use updated packages.\n"
     ]
    },
    {
     "name": "stderr",
     "output_type": "stream",
     "text": [
      "ERROR: pandas 1.5.2 has requirement numpy>=1.20.3; python_version < \"3.10\", but you'll have numpy 1.18.5 which is incompatible.\n",
      "ERROR: phik 0.12.2 has requirement scipy>=1.5.2, but you'll have scipy 1.5.0 which is incompatible.\n"
     ]
    }
   ],
   "source": [
    "pip install pandas-profiling"
   ]
  },
  {
   "cell_type": "code",
   "execution_count": 11,
   "metadata": {
    "scrolled": true
   },
   "outputs": [
    {
     "data": {
      "application/vnd.jupyter.widget-view+json": {
       "model_id": "0b656130b29e4a12b0c0ad56abb86030",
       "version_major": 2,
       "version_minor": 0
      },
      "text/plain": [
       "Summarize dataset:   0%|          | 0/5 [00:00<?, ?it/s]"
      ]
     },
     "metadata": {},
     "output_type": "display_data"
    },
    {
     "name": "stderr",
     "output_type": "stream",
     "text": [
      "C:\\Users\\sayyedn\\Anaconda3\\lib\\site-packages\\multimethod\\__init__.py:315: FutureWarning: In a future version, `df.iloc[:, i] = newvals` will attempt to set the values inplace instead of always setting a new array. To retain the old behavior, use either `df[df.columns[i]] = newvals` or, if columns are non-unique, `df.isetitem(i, newvals)`\n",
      "  return func(*args, **kwargs)\n",
      "C:\\Users\\sayyedn\\Anaconda3\\lib\\site-packages\\multimethod\\__init__.py:315: FutureWarning: The default value of numeric_only in DataFrame.corr is deprecated. In a future version, it will default to False. Select only valid columns or specify the value of numeric_only to silence this warning.\n",
      "  return func(*args, **kwargs)\n"
     ]
    },
    {
     "data": {
      "application/vnd.jupyter.widget-view+json": {
       "model_id": "6cada4d882db4886ad5ccd90e6f6d793",
       "version_major": 2,
       "version_minor": 0
      },
      "text/plain": [
       "Generate report structure:   0%|          | 0/1 [00:00<?, ?it/s]"
      ]
     },
     "metadata": {},
     "output_type": "display_data"
    },
    {
     "data": {
      "application/vnd.jupyter.widget-view+json": {
       "model_id": "6a16500359764b8f8afa27b0c2cfdee1",
       "version_major": 2,
       "version_minor": 0
      },
      "text/plain": [
       "Render HTML:   0%|          | 0/1 [00:00<?, ?it/s]"
      ]
     },
     "metadata": {},
     "output_type": "display_data"
    },
    {
     "data": {
      "application/vnd.jupyter.widget-view+json": {
       "model_id": "1135884b920d489b995dda0b8e72fa5d",
       "version_major": 2,
       "version_minor": 0
      },
      "text/plain": [
       "Export report to file:   0%|          | 0/1 [00:00<?, ?it/s]"
      ]
     },
     "metadata": {},
     "output_type": "display_data"
    }
   ],
   "source": [
    "import pandas as pd\n",
    "from pandas_profiling import ProfileReport\n",
    "\n",
    "#EDA using pandas-profile\n",
    "profile=ProfileReport(pd.read_csv(r\"C:\\Users\\sayyedn\\Desktop\\Complete-Python-3-Bootcamp-master\\ineuron\\Visadataset.csv\"),explorative=True)\n",
    "\n",
    "#Saving results to a HTML file\n",
    "profile.to_file(r\"C:\\Users\\sayyedn\\Desktop\\Complete-Python-3-Bootcamp-master\\ineuron\\output.html\")\n"
   ]
  },
  {
   "cell_type": "code",
   "execution_count": 12,
   "metadata": {},
   "outputs": [
    {
     "name": "stdout",
     "output_type": "stream",
     "text": [
      "Collecting sweetviz\n",
      "  Downloading sweetviz-2.1.4-py3-none-any.whl (15.1 MB)\n",
      "Requirement already satisfied: pandas!=1.0.0,!=1.0.1,!=1.0.2,>=0.25.3 in c:\\users\\sayyedn\\anaconda3\\lib\\site-packages (from sweetviz) (1.5.2)\n",
      "Collecting importlib-resources>=1.2.0\n",
      "  Downloading importlib_resources-5.10.0-py3-none-any.whl (34 kB)\n",
      "Requirement already satisfied: jinja2>=2.11.1 in c:\\users\\sayyedn\\anaconda3\\lib\\site-packages (from sweetviz) (2.11.2)\n",
      "Requirement already satisfied: numpy>=1.16.0 in c:\\users\\sayyedn\\anaconda3\\lib\\site-packages (from sweetviz) (1.20.3)\n",
      "Requirement already satisfied: scipy>=1.3.2 in c:\\users\\sayyedn\\anaconda3\\lib\\site-packages (from sweetviz) (1.5.0)\n",
      "Requirement already satisfied: matplotlib>=3.1.3 in c:\\users\\sayyedn\\anaconda3\\lib\\site-packages (from sweetviz) (3.2.2)\n",
      "Requirement already satisfied: tqdm>=4.43.0 in c:\\users\\sayyedn\\anaconda3\\lib\\site-packages (from sweetviz) (4.64.1)\n",
      "Requirement already satisfied: python-dateutil>=2.8.1 in c:\\users\\sayyedn\\anaconda3\\lib\\site-packages (from pandas!=1.0.0,!=1.0.1,!=1.0.2,>=0.25.3->sweetviz) (2.8.1)\n",
      "Requirement already satisfied: pytz>=2020.1 in c:\\users\\sayyedn\\anaconda3\\lib\\site-packages (from pandas!=1.0.0,!=1.0.1,!=1.0.2,>=0.25.3->sweetviz) (2020.1)\n",
      "Requirement already satisfied: zipp>=3.1.0; python_version < \"3.10\" in c:\\users\\sayyedn\\anaconda3\\lib\\site-packages (from importlib-resources>=1.2.0->sweetviz) (3.1.0)\n",
      "Requirement already satisfied: MarkupSafe>=0.23 in c:\\users\\sayyedn\\anaconda3\\lib\\site-packages (from jinja2>=2.11.1->sweetviz) (1.1.1)\n",
      "Requirement already satisfied: cycler>=0.10 in c:\\users\\sayyedn\\anaconda3\\lib\\site-packages (from matplotlib>=3.1.3->sweetviz) (0.10.0)\n",
      "Requirement already satisfied: pyparsing!=2.0.4,!=2.1.2,!=2.1.6,>=2.0.1 in c:\\users\\sayyedn\\anaconda3\\lib\\site-packages (from matplotlib>=3.1.3->sweetviz) (2.4.7)\n",
      "Requirement already satisfied: kiwisolver>=1.0.1 in c:\\users\\sayyedn\\anaconda3\\lib\\site-packages (from matplotlib>=3.1.3->sweetviz) (1.2.0)\n",
      "Requirement already satisfied: colorama; platform_system == \"Windows\" in c:\\users\\sayyedn\\anaconda3\\lib\\site-packages (from tqdm>=4.43.0->sweetviz) (0.4.3)\n",
      "Requirement already satisfied: six>=1.5 in c:\\users\\sayyedn\\anaconda3\\lib\\site-packages (from python-dateutil>=2.8.1->pandas!=1.0.0,!=1.0.1,!=1.0.2,>=0.25.3->sweetviz) (1.15.0)\n",
      "Installing collected packages: importlib-resources, sweetviz\n",
      "Successfully installed importlib-resources-5.10.0 sweetviz-2.1.4\n",
      "Note: you may need to restart the kernel to use updated packages.\n"
     ]
    }
   ],
   "source": [
    "pip install sweetviz"
   ]
  },
  {
   "cell_type": "code",
   "execution_count": 1,
   "metadata": {},
   "outputs": [
    {
     "name": "stderr",
     "output_type": "stream",
     "text": [
      "C:\\Users\\sayyedn\\Anaconda3\\lib\\site-packages\\pandas\\core\\computation\\expressions.py:20: UserWarning: Pandas requires version '2.7.3' or newer of 'numexpr' (version '2.7.1' currently installed).\n",
      "  from pandas.core.computation.check import NUMEXPR_INSTALLED\n",
      "C:\\Users\\sayyedn\\Anaconda3\\lib\\site-packages\\sweetviz\\dataframe_report.py:74: FutureWarning: iteritems is deprecated and will be removed in a future version. Use .items instead.\n",
      "  all_source_names = [cur_name for cur_name, cur_series in source_df.iteritems()]\n",
      "C:\\Users\\sayyedn\\Anaconda3\\lib\\site-packages\\sweetviz\\dataframe_report.py:109: FutureWarning: iteritems is deprecated and will be removed in a future version. Use .items instead.\n",
      "  filtered_series_names_in_source = [cur_name for cur_name, cur_series in source_df.iteritems()\n"
     ]
    },
    {
     "data": {
      "application/vnd.jupyter.widget-view+json": {
       "model_id": "944f65a432344d74be7f1b52d93dc7b9",
       "version_major": 2,
       "version_minor": 0
      },
      "text/plain": [
       "                                             |                                             | [  0%]   00:00 ->…"
      ]
     },
     "metadata": {},
     "output_type": "display_data"
    },
    {
     "name": "stderr",
     "output_type": "stream",
     "text": [
      "C:\\Users\\sayyedn\\Anaconda3\\lib\\site-packages\\sweetviz\\series_analyzer_text.py:19: FutureWarning: iteritems is deprecated and will be removed in a future version. Use .items instead.\n",
      "  for item in to_process.source_counts[\"value_counts_without_nan\"].iteritems():\n",
      "C:\\Users\\sayyedn\\Anaconda3\\lib\\site-packages\\sweetviz\\series_analyzer_cat.py:28: FutureWarning: iteritems is deprecated and will be removed in a future version. Use .items instead.\n",
      "  for item in category_counts.iteritems():\n",
      "C:\\Users\\sayyedn\\Anaconda3\\lib\\site-packages\\sweetviz\\series_analyzer_cat.py:28: FutureWarning: iteritems is deprecated and will be removed in a future version. Use .items instead.\n",
      "  for item in category_counts.iteritems():\n",
      "C:\\Users\\sayyedn\\Anaconda3\\lib\\site-packages\\sweetviz\\series_analyzer_cat.py:28: FutureWarning: iteritems is deprecated and will be removed in a future version. Use .items instead.\n",
      "  for item in category_counts.iteritems():\n",
      "C:\\Users\\sayyedn\\Anaconda3\\lib\\site-packages\\sweetviz\\series_analyzer_cat.py:28: FutureWarning: iteritems is deprecated and will be removed in a future version. Use .items instead.\n",
      "  for item in category_counts.iteritems():\n",
      "C:\\Users\\sayyedn\\Anaconda3\\lib\\site-packages\\sweetviz\\series_analyzer_numeric.py:25: FutureWarning: The 'mad' method is deprecated and will be removed in a future version. To compute the same result, you may do `(df - df.mean()).abs().mean()`.\n",
      "  stats[\"mad\"] = series.mad()\n",
      "C:\\Users\\sayyedn\\Anaconda3\\lib\\site-packages\\sweetviz\\series_analyzer_numeric.py:25: FutureWarning: The 'mad' method is deprecated and will be removed in a future version. To compute the same result, you may do `(df - df.mean()).abs().mean()`.\n",
      "  stats[\"mad\"] = series.mad()\n",
      "C:\\Users\\sayyedn\\Anaconda3\\lib\\site-packages\\sweetviz\\series_analyzer_cat.py:28: FutureWarning: iteritems is deprecated and will be removed in a future version. Use .items instead.\n",
      "  for item in category_counts.iteritems():\n",
      "C:\\Users\\sayyedn\\Anaconda3\\lib\\site-packages\\sweetviz\\series_analyzer_numeric.py:25: FutureWarning: The 'mad' method is deprecated and will be removed in a future version. To compute the same result, you may do `(df - df.mean()).abs().mean()`.\n",
      "  stats[\"mad\"] = series.mad()\n",
      "C:\\Users\\sayyedn\\Anaconda3\\lib\\site-packages\\sweetviz\\series_analyzer_cat.py:28: FutureWarning: iteritems is deprecated and will be removed in a future version. Use .items instead.\n",
      "  for item in category_counts.iteritems():\n",
      "C:\\Users\\sayyedn\\Anaconda3\\lib\\site-packages\\sweetviz\\series_analyzer_cat.py:28: FutureWarning: iteritems is deprecated and will be removed in a future version. Use .items instead.\n",
      "  for item in category_counts.iteritems():\n",
      "C:\\Users\\sayyedn\\Anaconda3\\lib\\site-packages\\sweetviz\\series_analyzer_cat.py:28: FutureWarning: iteritems is deprecated and will be removed in a future version. Use .items instead.\n",
      "  for item in category_counts.iteritems():\n"
     ]
    },
    {
     "name": "stdout",
     "output_type": "stream",
     "text": [
      "Report sweet_report.html was generated! NOTEBOOK/COLAB USERS: the web browser MAY not pop up, regardless, the report IS saved in your notebook/colab files.\n"
     ]
    }
   ],
   "source": [
    "import pandas as pd \n",
    "import sweetviz as sv \n",
    "\n",
    "\n",
    "#EDA using Autoviz\n",
    "sweet_report=sv.analyze(pd.read_csv(r\"C:\\Users\\sayyedn\\Desktop\\Complete-Python-3-Bootcamp-master\\ineuron\\Visadataset.csv\"))\n",
    "\n",
    "#saving result to HTML file\n",
    "sweet_report.show_html('sweet_report.html')"
   ]
  },
  {
   "cell_type": "code",
   "execution_count": 2,
   "metadata": {},
   "outputs": [
    {
     "name": "stdout",
     "output_type": "stream",
     "text": [
      "Collecting dtale\n",
      "  Downloading dtale-2.9.0-py2.py3-none-any.whl (12.8 MB)\n",
      "Collecting matplotlib==3.6.0; python_version == \"3.8\"\n",
      "  Downloading matplotlib-3.6.0-cp38-cp38-win_amd64.whl (7.2 MB)\n",
      "Requirement already satisfied: xlrd in c:\\users\\sayyedn\\anaconda3\\lib\\site-packages (from dtale) (1.2.0)\n",
      "Requirement already satisfied: scikit-learn; python_version > \"3.7\" in c:\\users\\sayyedn\\anaconda3\\lib\\site-packages (from dtale) (0.23.1)\n",
      "Collecting lz4; python_version > \"3.0\"\n",
      "  Downloading lz4-4.0.2-cp38-cp38-win_amd64.whl (98 kB)\n",
      "Requirement already satisfied: scipy; python_version >= \"3.8\" in c:\\users\\sayyedn\\anaconda3\\lib\\site-packages (from dtale) (1.5.0)\n",
      "Collecting dash>=2.0.0; python_version > \"3.6\"\n",
      "  Downloading dash-2.7.0-py3-none-any.whl (9.9 MB)\n",
      "Collecting kaleido; python_version > \"3.6\"\n",
      "  Downloading kaleido-0.2.1-py2.py3-none-win_amd64.whl (65.9 MB)\n",
      "Collecting dash-colorscales\n",
      "  Downloading dash_colorscales-0.0.4.tar.gz (62 kB)\n",
      "Collecting strsimpy\n",
      "  Downloading strsimpy-0.2.1-py3-none-any.whl (45 kB)\n",
      "Requirement already satisfied: networkx; python_version > \"3.7\" in c:\\users\\sayyedn\\anaconda3\\lib\\site-packages (from dtale) (2.4)\n",
      "Requirement already satisfied: et-xmlfile; python_version >= \"3.6\" in c:\\users\\sayyedn\\anaconda3\\lib\\site-packages (from dtale) (1.0.1)\n",
      "Requirement already satisfied: requests; python_version >= \"3.6\" in c:\\users\\sayyedn\\anaconda3\\lib\\site-packages (from dtale) (2.24.0)\n",
      "Requirement already satisfied: plotly>=5.0.0; python_version >= \"3.6\" in c:\\users\\sayyedn\\anaconda3\\lib\\site-packages (from dtale) (5.10.0)\n",
      "Requirement already satisfied: numpy; python_version >= \"3.0\" in c:\\users\\sayyedn\\anaconda3\\lib\\site-packages (from dtale) (1.20.3)\n",
      "Collecting Flask-Compress\n",
      "  Downloading Flask_Compress-1.13-py3-none-any.whl (7.9 kB)\n",
      "Requirement already satisfied: statsmodels; python_version > \"3.7\" in c:\\users\\sayyedn\\anaconda3\\lib\\site-packages (from dtale) (0.13.5)\n",
      "Collecting squarify\n",
      "  Downloading squarify-0.4.3-py3-none-any.whl (4.3 kB)\n",
      "Collecting dash-daq\n",
      "  Downloading dash_daq-0.5.0.tar.gz (642 kB)\n",
      "Requirement already satisfied: openpyxl; python_version >= \"3.0\" in c:\\users\\sayyedn\\anaconda3\\lib\\site-packages (from dtale) (3.0.4)\n",
      "Requirement already satisfied: six in c:\\users\\sayyedn\\anaconda3\\lib\\site-packages (from dtale) (1.15.0)\n",
      "Requirement already satisfied: cycler; python_version > \"3.0\" in c:\\users\\sayyedn\\anaconda3\\lib\\site-packages (from dtale) (0.10.0)\n",
      "Requirement already satisfied: future>=0.14.0 in c:\\users\\sayyedn\\anaconda3\\lib\\site-packages (from dtale) (0.18.2)\n",
      "Requirement already satisfied: pandas in c:\\users\\sayyedn\\anaconda3\\lib\\site-packages (from dtale) (1.5.2)\n",
      "Collecting xarray; python_version >= \"3.0\"\n",
      "  Downloading xarray-2022.11.0-py3-none-any.whl (963 kB)\n",
      "Requirement already satisfied: Flask; python_version >= \"3.7\" in c:\\users\\sayyedn\\anaconda3\\lib\\site-packages (from dtale) (1.1.2)\n",
      "Requirement already satisfied: itsdangerous; python_version >= \"3.7\" in c:\\users\\sayyedn\\anaconda3\\lib\\site-packages (from dtale) (1.1.0)\n",
      "Requirement already satisfied: certifi; python_version > \"3.0\" in c:\\users\\sayyedn\\anaconda3\\lib\\site-packages (from dtale) (2020.6.20)\n",
      "Requirement already satisfied: seaborn; python_version > \"3.6\" in c:\\users\\sayyedn\\anaconda3\\lib\\site-packages (from dtale) (0.10.1)\n",
      "Collecting missingno<=0.4.2\n",
      "Note: you may need to restart the kernel to use updated packages.  Downloading missingno-0.4.2-py3-none-any.whl (9.7 kB)\n",
      "Collecting flask-ngrok; python_version > \"3.0\"\n",
      "  Downloading flask_ngrok-0.0.25-py3-none-any.whl (3.1 kB)\n",
      "Collecting dash-bootstrap-components; python_version > \"3.0\"\n",
      "  Downloading dash_bootstrap_components-1.2.1-py3-none-any.whl (216 kB)\n",
      "Requirement already satisfied: python-dateutil>=2.7 in c:\\users\\sayyedn\\anaconda3\\lib\\site-packages (from matplotlib==3.6.0; python_version == \"3.8\"->dtale) (2.8.1)\n",
      "Requirement already satisfied: pyparsing>=2.2.1 in c:\\users\\sayyedn\\anaconda3\\lib\\site-packages (from matplotlib==3.6.0; python_version == \"3.8\"->dtale) (2.4.7)\n",
      "Requirement already satisfied: kiwisolver>=1.0.1 in c:\\users\\sayyedn\\anaconda3\\lib\\site-packages (from matplotlib==3.6.0; python_version == \"3.8\"->dtale) (1.2.0)\n",
      "Requirement already satisfied: pillow>=6.2.0 in c:\\users\\sayyedn\\anaconda3\\lib\\site-packages (from matplotlib==3.6.0; python_version == \"3.8\"->dtale) (9.3.0)\n",
      "Requirement already satisfied: fonttools>=4.22.0 in c:\\users\\sayyedn\\anaconda3\\lib\\site-packages (from matplotlib==3.6.0; python_version == \"3.8\"->dtale) (4.38.0)\n",
      "Requirement already satisfied: packaging>=20.0 in c:\\users\\sayyedn\\anaconda3\\lib\\site-packages (from matplotlib==3.6.0; python_version == \"3.8\"->dtale) (21.3)\n",
      "Requirement already satisfied: contourpy>=1.0.1 in c:\\users\\sayyedn\\anaconda3\\lib\\site-packages (from matplotlib==3.6.0; python_version == \"3.8\"->dtale) (1.0.6)\n",
      "Requirement already satisfied: joblib>=0.11 in c:\\users\\sayyedn\\anaconda3\\lib\\site-packages (from scikit-learn; python_version > \"3.7\"->dtale) (0.16.0)\n",
      "Requirement already satisfied: threadpoolctl>=2.0.0 in c:\\users\\sayyedn\\anaconda3\\lib\\site-packages (from scikit-learn; python_version > \"3.7\"->dtale) (2.1.0)\n",
      "Collecting dash-table==5.0.0\n",
      "  Downloading dash_table-5.0.0-py3-none-any.whl (3.9 kB)\n",
      "Collecting dash-html-components==2.0.0\n",
      "  Downloading dash_html_components-2.0.0-py3-none-any.whl (4.1 kB)\n",
      "Collecting dash-core-components==2.0.0\n",
      "  Downloading dash_core_components-2.0.0-py3-none-any.whl (3.8 kB)\n",
      "Requirement already satisfied: decorator>=4.3.0 in c:\\users\\sayyedn\\anaconda3\\lib\\site-packages (from networkx; python_version > \"3.7\"->dtale) (4.4.2)\n",
      "Requirement already satisfied: idna<3,>=2.5 in c:\\users\\sayyedn\\anaconda3\\lib\\site-packages (from requests; python_version >= \"3.6\"->dtale) (2.10)\n",
      "Requirement already satisfied: urllib3!=1.25.0,!=1.25.1,<1.26,>=1.21.1 in c:\\users\\sayyedn\\anaconda3\\lib\\site-packages (from requests; python_version >= \"3.6\"->dtale) (1.25.9)\n",
      "Requirement already satisfied: chardet<4,>=3.0.2 in c:\\users\\sayyedn\\anaconda3\\lib\\site-packages (from requests; python_version >= \"3.6\"->dtale) (3.0.4)\n",
      "Requirement already satisfied: tenacity>=6.2.0 in c:\\users\\sayyedn\\anaconda3\\lib\\site-packages (from plotly>=5.0.0; python_version >= \"3.6\"->dtale) (8.0.1)\n",
      "Collecting brotli\n",
      "  Downloading Brotli-1.0.9-cp38-cp38-win_amd64.whl (365 kB)\n",
      "Requirement already satisfied: patsy>=0.5.2 in c:\\users\\sayyedn\\anaconda3\\lib\\site-packages (from statsmodels; python_version > \"3.7\"->dtale) (0.5.3)\n",
      "Requirement already satisfied: jdcal in c:\\users\\sayyedn\\anaconda3\\lib\\site-packages (from openpyxl; python_version >= \"3.0\"->dtale) (1.4.1)\n",
      "Requirement already satisfied: pytz>=2020.1 in c:\\users\\sayyedn\\anaconda3\\lib\\site-packages (from pandas->dtale) (2020.1)\n",
      "Requirement already satisfied: click>=5.1 in c:\\users\\sayyedn\\anaconda3\\lib\\site-packages (from Flask; python_version >= \"3.7\"->dtale) (7.1.2)\n",
      "Requirement already satisfied: Jinja2>=2.10.1 in c:\\users\\sayyedn\\anaconda3\\lib\\site-packages (from Flask; python_version >= \"3.7\"->dtale) (2.11.2)\n",
      "Requirement already satisfied: Werkzeug>=0.15 in c:\\users\\sayyedn\\anaconda3\\lib\\site-packages (from Flask; python_version >= \"3.7\"->dtale) (1.0.1)\n",
      "Requirement already satisfied: MarkupSafe>=0.23 in c:\\users\\sayyedn\\anaconda3\\lib\\site-packages (from Jinja2>=2.10.1->Flask; python_version >= \"3.7\"->dtale) (1.1.1)\n",
      "Building wheels for collected packages: dash-colorscales, dash-daq\n",
      "  Building wheel for dash-colorscales (setup.py): started\n",
      "  Building wheel for dash-colorscales (setup.py): finished with status 'done'\n",
      "  Created wheel for dash-colorscales: filename=dash_colorscales-0.0.4-py3-none-any.whl size=62603 sha256=4cdf64cb3dfb6ffee37880e2303fc7d65539d9de6d38fb5b9fc16d511388ef04\n",
      "  Stored in directory: c:\\users\\sayyedn\\appdata\\local\\pip\\cache\\wheels\\fe\\33\\33\\172dbfe1efc739352828854a113df599a428b58f68ed0c4f75\n",
      "  Building wheel for dash-daq (setup.py): started\n",
      "  Building wheel for dash-daq (setup.py): finished with status 'done'\n",
      "  Created wheel for dash-daq: filename=dash_daq-0.5.0-py3-none-any.whl size=669707 sha256=5c2aa958eeebb441e7da599726b95728c15f85bc6820a33d95f2b825180be241\n",
      "  Stored in directory: c:\\users\\sayyedn\\appdata\\local\\pip\\cache\\wheels\\00\\35\\e5\\57e90f10c529601c6627400513cb65dd5adb09752411f5a050\n",
      "Successfully built dash-colorscales dash-daq\n",
      "Installing collected packages: matplotlib, lz4, dash-table, dash-html-components, dash-core-components, dash, kaleido, dash-colorscales, strsimpy, brotli, Flask-Compress, squarify, dash-daq, xarray, missingno, flask-ngrok, dash-bootstrap-components, dtale\n",
      "  Attempting uninstall: matplotlib\n",
      "    Found existing installation: matplotlib 3.6.2\n",
      "    Uninstalling matplotlib-3.6.2:\n",
      "      Successfully uninstalled matplotlib-3.6.2\n",
      "Successfully installed Flask-Compress-1.13 brotli-1.0.9 dash-2.7.0 dash-bootstrap-components-1.2.1 dash-colorscales-0.0.4 dash-core-components-2.0.0 dash-daq-0.5.0 dash-html-components-2.0.0 dash-table-5.0.0 dtale-2.9.0 flask-ngrok-0.0.25 kaleido-0.2.1 lz4-4.0.2 matplotlib-3.6.0 missingno-0.4.2 squarify-0.4.3 strsimpy-0.2.1 xarray-2022.11.0\n",
      "\n"
     ]
    },
    {
     "name": "stderr",
     "output_type": "stream",
     "text": [
      "ERROR: phik 0.12.2 has requirement scipy>=1.5.2, but you'll have scipy 1.5.0 which is incompatible.\n"
     ]
    }
   ],
   "source": [
    "pip install dtale"
   ]
  },
  {
   "cell_type": "code",
   "execution_count": 3,
   "metadata": {},
   "outputs": [
    {
     "name": "stderr",
     "output_type": "stream",
     "text": [
      "C:\\Users\\sayyedn\\Anaconda3\\lib\\site-packages\\dtale\\views.py:1950: FutureWarning:\n",
      "\n",
      "The default value of regex will change from True to False in a future version.\n",
      "\n"
     ]
    }
   ],
   "source": [
    "import pandas as pd \n",
    "import dtale\n",
    "df=pd.read_csv(r\"C:\\Users\\sayyedn\\Desktop\\Complete-Python-3-Bootcamp-master\\ineuron\\Visadataset.csv\")\n",
    "d=dtale.show(df)\n",
    "d.open_browser()"
   ]
  },
  {
   "cell_type": "code",
   "execution_count": null,
   "metadata": {},
   "outputs": [],
   "source": []
  }
 ],
 "metadata": {
  "kernelspec": {
   "display_name": "Python 3",
   "language": "python",
   "name": "python3"
  },
  "language_info": {
   "codemirror_mode": {
    "name": "ipython",
    "version": 3
   },
   "file_extension": ".py",
   "mimetype": "text/x-python",
   "name": "python",
   "nbconvert_exporter": "python",
   "pygments_lexer": "ipython3",
   "version": "3.8.3"
  }
 },
 "nbformat": 4,
 "nbformat_minor": 4
}
